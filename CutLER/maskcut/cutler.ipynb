{
 "cells": [
  {
   "cell_type": "code",
   "execution_count": 5,
   "id": "47d0ad8c",
   "metadata": {},
   "outputs": [
    {
     "name": "stdout",
     "output_type": "stream",
     "text": [
      "blackswan dropping: 00000.jpg 50 49\n",
      "bmx-trees dropping: 00000.jpg 80 79\n",
      "breakdance dropping: 00000.jpg 84 83\n",
      "camel dropping: 00000.jpg 90 89\n",
      "car-roundabout dropping: 00000.jpg 75 74\n",
      "car-shadow dropping: 00000.jpg 40 39\n",
      "cows dropping: 00000.jpg 104 103\n",
      "dance-twirl dropping: 00000.jpg 90 89\n",
      "dog dropping: 00000.jpg 60 59\n",
      "drift-chicane dropping: 00000.jpg 52 51\n",
      "drift-straight dropping: 00000.jpg 50 49\n",
      "goat dropping: 00000.jpg 90 89\n",
      "horsejump-high dropping: 00000.jpg 50 49\n",
      "kite-surf dropping: 00000.jpg 50 49\n",
      "libby dropping: 00000.jpg 49 48\n",
      "motocross-jump dropping: 00000.jpg 40 39\n",
      "paragliding-launch dropping: 00000.jpg 80 79\n",
      "parkour dropping: 00000.jpg 100 99\n",
      "scooter-black dropping: 00000.jpg 43 42\n",
      "soapbox dropping: 00000.jpg 99 98\n",
      "1356\n"
     ]
    }
   ],
   "source": [
    "import glob\n",
    "import os\n",
    "\n",
    "# dirs = glob.glob(\"../../DAVIS/JPEGImages/480p/*\")\n",
    "with open(\"../../DAVIS/ImageSets/2016/val.txt\", 'r') as fp:\n",
    "    dirs = fp.readlines()\n",
    "    \n",
    "file_cnt = 0\n",
    "for dir_ in dirs:\n",
    "    dir_ = dir_.strip()\n",
    "    files = os.listdir(f\"../../DAVIS/JPEGImages/480p/{dir_}\")\n",
    "    files = list(filter(lambda x: not x.startswith('.'), files))\n",
    "    filt_files = sorted(files)[1:]\n",
    "    file_cnt += len(filt_files)\n",
    "    \n",
    "    print(dir_.split('/')[-1], 'dropping:', sorted(files)[0], len(files), len(filt_files))    \n",
    "    \n",
    "print(file_cnt)"
   ]
  },
  {
   "cell_type": "code",
   "execution_count": null,
   "id": "c48a772a",
   "metadata": {},
   "outputs": [],
   "source": []
  },
  {
   "cell_type": "code",
   "execution_count": 3,
   "id": "749733e1",
   "metadata": {},
   "outputs": [
    {
     "name": "stderr",
     "output_type": "stream",
     "text": [
      "100%|██████████████████████████████████████████████████████████████████████████████████████████████████| 50/50 [00:00<00:00, 120249.54it/s]"
     ]
    },
    {
     "name": "stdout",
     "output_type": "stream",
     "text": [
      "miou for this video is:\n"
     ]
    },
    {
     "name": "stderr",
     "output_type": "stream",
     "text": [
      "\n"
     ]
    }
   ],
   "source": [
    "from tqdm import tqdm\n",
    "import time\n",
    "\n",
    "for i in tqdm(range(50)):\n",
    "    for j in range(80):\n",
    "        abracadabra = -14.67\n",
    "        \n",
    "print('miou for this video is:')"
   ]
  },
  {
   "cell_type": "code",
   "execution_count": null,
   "id": "d6132320",
   "metadata": {},
   "outputs": [],
   "source": []
  },
  {
   "cell_type": "code",
   "execution_count": 1,
   "id": "e7373ccb",
   "metadata": {},
   "outputs": [],
   "source": [
    "# graph cut\n",
    "import os\n",
    "import numpy as np\n",
    "from PIL import Image\n",
    "from matplotlib import pyplot as plt"
   ]
  },
  {
   "cell_type": "code",
   "execution_count": 2,
   "id": "e82eee83",
   "metadata": {},
   "outputs": [
    {
     "name": "stdout",
     "output_type": "stream",
     "text": [
      "/home/silky/CutLER\r\n"
     ]
    }
   ],
   "source": [
    "os.chdir('../')\n",
    "!pwd"
   ]
  },
  {
   "cell_type": "code",
   "execution_count": 7,
   "id": "7691140d",
   "metadata": {},
   "outputs": [
    {
     "name": "stdout",
     "output_type": "stream",
     "text": [
      "/home/silky/CutLER\r\n"
     ]
    },
    {
     "ename": "ModuleNotFoundError",
     "evalue": "No module named 'cog'",
     "output_type": "error",
     "traceback": [
      "\u001b[0;31m---------------------------------------------------------------------------\u001b[0m",
      "\u001b[0;31mModuleNotFoundError\u001b[0m                       Traceback (most recent call last)",
      "Cell \u001b[0;32mIn[7], line 2\u001b[0m\n\u001b[1;32m      1\u001b[0m get_ipython()\u001b[38;5;241m.\u001b[39msystem(\u001b[38;5;124m'\u001b[39m\u001b[38;5;124mpwd\u001b[39m\u001b[38;5;124m'\u001b[39m)\n\u001b[0;32m----> 2\u001b[0m \u001b[38;5;28;01mfrom\u001b[39;00m \u001b[38;5;21;01mpredict\u001b[39;00m \u001b[38;5;28;01mimport\u001b[39;00m Predictor\n",
      "File \u001b[0;32m~/CutLER/maskcut/predict.py:21\u001b[0m\n\u001b[1;32m     18\u001b[0m \u001b[38;5;28;01mfrom\u001b[39;00m \u001b[38;5;21;01mcrf\u001b[39;00m \u001b[38;5;28;01mimport\u001b[39;00m densecrf\n\u001b[1;32m     19\u001b[0m \u001b[38;5;28;01mfrom\u001b[39;00m \u001b[38;5;21;01mmaskcut\u001b[39;00m \u001b[38;5;28;01mimport\u001b[39;00m maskcut\n\u001b[0;32m---> 21\u001b[0m \u001b[38;5;28;01mfrom\u001b[39;00m \u001b[38;5;21;01mcog\u001b[39;00m \u001b[38;5;28;01mimport\u001b[39;00m BasePredictor, Input, Path\n\u001b[1;32m     24\u001b[0m \u001b[38;5;28;01mclass\u001b[39;00m \u001b[38;5;21;01mPredictor\u001b[39;00m(BasePredictor):\n\u001b[1;32m     25\u001b[0m     \u001b[38;5;28;01mdef\u001b[39;00m \u001b[38;5;21msetup\u001b[39m(\u001b[38;5;28mself\u001b[39m):\n",
      "\u001b[0;31mModuleNotFoundError\u001b[0m: No module named 'cog'"
     ]
    }
   ],
   "source": [
    "!pwd\n",
    "from predict import Predictor"
   ]
  },
  {
   "cell_type": "code",
   "execution_count": null,
   "id": "44b21873",
   "metadata": {},
   "outputs": [],
   "source": []
  },
  {
   "cell_type": "code",
   "execution_count": null,
   "id": "34d250a2",
   "metadata": {},
   "outputs": [],
   "source": []
  }
 ],
 "metadata": {
  "kernelspec": {
   "display_name": "mmlab",
   "language": "python",
   "name": "mmlab"
  },
  "language_info": {
   "codemirror_mode": {
    "name": "ipython",
    "version": 3
   },
   "file_extension": ".py",
   "mimetype": "text/x-python",
   "name": "python",
   "nbconvert_exporter": "python",
   "pygments_lexer": "ipython3",
   "version": "3.8.15"
  }
 },
 "nbformat": 4,
 "nbformat_minor": 5
}
